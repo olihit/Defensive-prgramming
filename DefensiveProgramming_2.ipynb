{
 "cells": [
  {
   "cell_type": "markdown",
   "metadata": {},
   "source": [
    "   # Defensive programming (2)\n",
    "   We have seen the basic idea that we can insert\n",
    "   assert statments into code, to check that the \n",
    "   results are what we expect, but how can we test\n",
    "   software more fully? Can doing this help us \n",
    "   avoid bugs in the first place?\n",
    "   \n",
    "   One possible approach is **test driven development**.\n",
    "   Many people think this reduces the number of bugs in \n",
    "   software as it is written, but evidence for this in the \n",
    "   sciences is somewhat limited as it is not always easy \n",
    "   to say what the right answer should be before writing the\n",
    "   software. Having said that, the tests involved in test\n",
    "   driven development are certanly useful even if some of\n",
    "   them are written after the software.\n",
    "   \n",
    "   We will look at a new (and quite difficult) problem, \n",
    "   finding the overlap between ranges of numbers. For \n",
    "   example, these could be the dates that different \n",
    "   sensors were running, and you need to find the \n",
    "   date ranges where all sensors recorded data before\n",
    "   running further analysis."
   ]
  },
  {
   "cell_type": "markdown",
   "metadata": {},
   "source": [
    "<img src=\"python-overlapping-ranges.svg\">"
   ]
  },
  {
   "cell_type": "markdown",
   "metadata": {},
   "source": [
    "Start off by imagining you have a working function `range_overlap` that takes\n",
    "a list of tuples. Write some assert statments that would check if the answer from this\n",
    "function is correct. Put these in a function. Think of different cases and \n",
    "about edge cases (which may show a subtle bug)."
   ]
  },
  {
   "cell_type": "code",
   "execution_count": null,
   "metadata": {
    "collapsed": true
   },
   "outputs": [],
   "source": [
    "def range_overlap(ranges):\n",
    "    ...\n",
    "    return overlap"
   ]
  },
  {
   "cell_type": "code",
   "execution_count": null,
   "metadata": {
    "collapsed": true
   },
   "outputs": [],
   "source": [
    "print range_overlap([(-3,5), (0,4.5), (-1.5, 2)])"
   ]
  },
  {
   "cell_type": "markdown",
   "metadata": {},
   "source": [
    "(0,2)"
   ]
  },
  {
   "cell_type": "code",
   "execution_count": null,
   "metadata": {
    "collapsed": true
   },
   "outputs": [],
   "source": [
    "# Call the function we want to test and then compaer with the output we are expecting\n",
    "def test_range_overlap():\n",
    "    assert range_overlap([(-3,5), (0,4.5), (-1.5, 2)])==(0,2), 'First test'"
   ]
  }
 ],
 "metadata": {
  "kernelspec": {
   "display_name": "Python 2",
   "language": "python",
   "name": "python2"
  },
  "language_info": {
   "codemirror_mode": {
    "name": "ipython",
    "version": 2
   },
   "file_extension": ".py",
   "mimetype": "text/x-python",
   "name": "python",
   "nbconvert_exporter": "python",
   "pygments_lexer": "ipython2",
   "version": "2.7.10"
  }
 },
 "nbformat": 4,
 "nbformat_minor": 0
}
